{
 "cells": [
  {
   "cell_type": "code",
   "execution_count": null,
   "metadata": {},
   "outputs": [],
   "source": [
    "import os\n",
    "import sys\n",
    "sys.path.append(\"../../\")\n",
    "\n",
    "import json\n",
    "import numpy\n",
    "\n",
    "numpy.random.seed(0)"
   ]
  },
  {
   "cell_type": "code",
   "execution_count": null,
   "metadata": {},
   "outputs": [],
   "source": [
    "with open(\"/home/mroemmele/spacy-lookups-data/spacy_lookups_data/data/en_lexeme_prob.json\") as f:\n",
    "    word_probs = {word:score for word, score in json.load(f).items() if word.strip()}"
   ]
  },
  {
   "cell_type": "code",
   "execution_count": null,
   "metadata": {},
   "outputs": [],
   "source": [
    "words, raw_probs = zip(*list(word_probs.items()))\n",
    "samp_probs = numpy.array(raw_probs)\n",
    "samp_temp = 1.25\n",
    "samp_probs = numpy.exp(samp_probs / samp_temp) / numpy.sum(numpy.exp(samp_probs / samp_temp))\n",
    "samp_probs#.sum()"
   ]
  },
  {
   "cell_type": "code",
   "execution_count": null,
   "metadata": {},
   "outputs": [],
   "source": [
    "n_words_per_item = 3\n",
    "n_items = 100000\n",
    "items = []\n",
    "for idx in range(n_items):\n",
    "    item_word_idxs = numpy.random.choice(len(words), size=n_words_per_item, replace=False, p=samp_probs)\n",
    "    item_words = [words[idx].strip() for idx in item_word_idxs]\n",
    "    items.append(\" \".join(item_words).lower())\n",
    "    if idx and idx % 1000 == 0:\n",
    "        print(idx)"
   ]
  },
  {
   "cell_type": "code",
   "execution_count": null,
   "metadata": {},
   "outputs": [],
   "source": [
    "items[-100:]"
   ]
  },
  {
   "cell_type": "code",
   "execution_count": null,
   "metadata": {},
   "outputs": [],
   "source": [
    "with open(\"/home/mroemmele/elaboration/eval_items/spacy_word_prob_sampled/texts100000.txt\", 'w') as f:\n",
    "    f.write(\"\\n\".join(items))"
   ]
  },
  {
   "cell_type": "code",
   "execution_count": null,
   "metadata": {},
   "outputs": [],
   "source": []
  }
 ],
 "metadata": {
  "kernelspec": {
   "display_name": "Python 3",
   "language": "python",
   "name": "python3"
  },
  "language_info": {
   "codemirror_mode": {
    "name": "ipython",
    "version": 3
   },
   "file_extension": ".py",
   "mimetype": "text/x-python",
   "name": "python",
   "nbconvert_exporter": "python",
   "pygments_lexer": "ipython3",
   "version": "3.7.3"
  }
 },
 "nbformat": 4,
 "nbformat_minor": 4
}
