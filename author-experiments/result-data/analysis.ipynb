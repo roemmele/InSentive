{
 "cells": [
  {
   "cell_type": "markdown",
   "metadata": {},
   "source": [
    "### This notebook contains the code used to analyze the experimental data and compute the results reported in the paper \"Inspiration through Observation: Demonstrating the Influence of Automatically Generated Text on Human Creative Writing\".\n",
    "\n",
    "Library requirements: pandas, numpy, scikit-learn, transformers"
   ]
  },
  {
   "cell_type": "code",
   "execution_count": 1,
   "metadata": {},
   "outputs": [],
   "source": [
    "import pandas\n",
    "import os\n",
    "import numpy\n",
    "import sys\n",
    "from transformers import pipeline\n",
    "from sklearn.metrics.pairwise import cosine_similarity\n",
    "\n",
    "pandas.set_option('display.max_columns', None)\n",
    "pandas.set_option(\"max_colwidth\", -1)\n",
    "\n",
    "vectorizer = pipeline('feature-extraction')"
   ]
  },
  {
   "cell_type": "markdown",
   "metadata": {},
   "source": [
    "### Load and visualize data"
   ]
  },
  {
   "cell_type": "code",
   "execution_count": 2,
   "metadata": {},
   "outputs": [
    {
     "data": {
      "text/html": [
       "<div>\n",
       "<style scoped>\n",
       "    .dataframe tbody tr th:only-of-type {\n",
       "        vertical-align: middle;\n",
       "    }\n",
       "\n",
       "    .dataframe tbody tr th {\n",
       "        vertical-align: top;\n",
       "    }\n",
       "\n",
       "    .dataframe thead th {\n",
       "        text-align: right;\n",
       "    }\n",
       "</style>\n",
       "<table border=\"1\" class=\"dataframe\">\n",
       "  <thead>\n",
       "    <tr style=\"text-align: right;\">\n",
       "      <th></th>\n",
       "      <th>Session_ID</th>\n",
       "      <th>Block_ID</th>\n",
       "      <th>Difficulty_Level</th>\n",
       "      <th>Input_Words</th>\n",
       "      <th>Pre_Time_Elapsed</th>\n",
       "      <th>Post_Time_Elapsed</th>\n",
       "      <th>Pre_User_Sentences</th>\n",
       "      <th>Post_User_Sentences</th>\n",
       "      <th>Generated_Sentences</th>\n",
       "    </tr>\n",
       "  </thead>\n",
       "  <tbody>\n",
       "    <tr>\n",
       "      <th>0</th>\n",
       "      <td>6f272542-6353-4256-8d79-a2ecf9e950c9.txt</td>\n",
       "      <td>1226</td>\n",
       "      <td>easy</td>\n",
       "      <td>the old fashioned</td>\n",
       "      <td>42.728305</td>\n",
       "      <td>71.056639</td>\n",
       "      <td>[The old fashioned prince arrived at the castle. , The old man arrived at the old fashioned restaurant.]</td>\n",
       "      <td>[I saw the old fashioned grandfather clock in the window display earlier today. , The old fashioned bartender told everyone that he normally does not serve drinks after 9pm.]</td>\n",
       "      <td>[But the old fashioned life is short lived., The Old fashioned look of the project can't be much worse., In fact, the town was an old fashioned one., You can make the same mistakes as the old fashioned way., The former Old fashioned, but the latter is more polite.]</td>\n",
       "    </tr>\n",
       "    <tr>\n",
       "      <th>1</th>\n",
       "      <td>6f272542-6353-4256-8d79-a2ecf9e950c9.txt</td>\n",
       "      <td>4117</td>\n",
       "      <td>hard</td>\n",
       "      <td>different also examinations</td>\n",
       "      <td>210.952629</td>\n",
       "      <td>82.830748</td>\n",
       "      <td>[The young doctor said that I needed two different sets of xrays and also needed more examinations. , The food tasted a lot different but could have also tasted odd because I had dental examinations done earlier.]</td>\n",
       "      <td>[The different results also led the doctor to believe that more examinations were in order over the next few days. , The dogs were all different colors and they all also needed separate flea examinations.]</td>\n",
       "      <td>[But, that was different from her own, because she was also in her early stages of admission examinations., It is no different from the other prayers and also from the other examinations., Different characteristics of the different kinds of positive mental activities are also evident in different subjects, in which it seems that one has to pay attention to one's teacher in particular, as in examinations, because the teacher may not be aware of the objects., The activities of different students are also influenced by different degrees of success, as these examinations are to be one-sided., But this is not a different kind of missionary work, and it is also a more valuable thing to have these examinations as well.]</td>\n",
       "    </tr>\n",
       "    <tr>\n",
       "      <th>10</th>\n",
       "      <td>8951b4f7-be69-47fb-ab0a-280c02451a61.txt</td>\n",
       "      <td>3684</td>\n",
       "      <td>hard</td>\n",
       "      <td>intellect supreme dear</td>\n",
       "      <td>47.129451</td>\n",
       "      <td>313.557370</td>\n",
       "      <td>[The intellect of the supreme being was something the race held dear., My intellect regarding the topic of a supreme pizza was something nobody thought was dear.]</td>\n",
       "      <td>[Her intellect was supreme above all others that she held dear., He thought his intellect was supreme but his dear sister thought otherwise.]</td>\n",
       "      <td>[Therefore, the Word of God's Wisdom, or the intellect of the Supreme Soul, is dear to the spiritual person., 'Not to you, but for your intellect, supreme, dear friend., You must have a refined intellect, the supreme ego, your dear self, and such not-so-subtle habits as you would think., Ana was of a man of a particular character and her intellect was supreme, dear friend., His intuition and the pure intellect of the Supreme Being are the very main means for creating the righteous, and he knows the expression of justice for a dear cause.]</td>\n",
       "    </tr>\n",
       "    <tr>\n",
       "      <th>100</th>\n",
       "      <td>07b1ecd8-916c-42af-9cb1-81e8ac6809b9.txt</td>\n",
       "      <td>2360</td>\n",
       "      <td>hard</td>\n",
       "      <td>corner his away</td>\n",
       "      <td>100.300951</td>\n",
       "      <td>70.522892</td>\n",
       "      <td>[Someone had left piles of old furniture on the corner, so he shooed his neighbor's kids away., We walked to the corner so we could say goodbye to his grandmother before she went away.]</td>\n",
       "      <td>[I stapled a sign to the corner of the room to notify his sister we had gone away on a trip., I never knew that the corner store was his home away from home.]</td>\n",
       "      <td>[He peered into the corner of the porch and looked over his shoulder to see his mother stepping away., He would have walked right out of the room, but he was startled when the corner of his door pulled away from the wall., He turned a corner, his eyes dark and pointed, his hair falling away from his face., In the corner of his eye, an old man turned away., In the corner of his eye, I saw the figure jump away.]</td>\n",
       "    </tr>\n",
       "    <tr>\n",
       "      <th>101</th>\n",
       "      <td>07b1ecd8-916c-42af-9cb1-81e8ac6809b9.txt</td>\n",
       "      <td>3863</td>\n",
       "      <td>hard</td>\n",
       "      <td>mental these suggested</td>\n",
       "      <td>41.408520</td>\n",
       "      <td>100.626432</td>\n",
       "      <td>[I asked the therapist for mental health aids, and these were some of the things she suggested., He's clearly mental, these are definitely not the art supplies the professor suggested.]</td>\n",
       "      <td>[I spend a few minutes each day doing the mental exercises these books I got from the library suggested will help me have a better memory., I want to be a mental health nurse, and these classes are suggested to help me prepare.]</td>\n",
       "      <td>[A mental picture of these events is suggested., As you know, we can't make a mental distinction between these three components of the tumor, as suggested., Yet there was also a mental connection between the two, that the allure of these seemed to have suggested., There is no need for mental energy for these two kinds of work, but it is suggested that the person who has this type of belief is likely to have a capacity to be useful., When the mental images were just beginning to be refined and a little stronger, the resulting reaction from these images suggested an astute observation.]</td>\n",
       "    </tr>\n",
       "    <tr>\n",
       "      <th>...</th>\n",
       "      <td>...</td>\n",
       "      <td>...</td>\n",
       "      <td>...</td>\n",
       "      <td>...</td>\n",
       "      <td>...</td>\n",
       "      <td>...</td>\n",
       "      <td>...</td>\n",
       "      <td>...</td>\n",
       "      <td>...</td>\n",
       "    </tr>\n",
       "    <tr>\n",
       "      <th>95</th>\n",
       "      <td>87e30fcd-0284-4fad-9b6d-fd796ba93df3.txt</td>\n",
       "      <td>3465</td>\n",
       "      <td>hard</td>\n",
       "      <td>refused part mission</td>\n",
       "      <td>110.764766</td>\n",
       "      <td>112.306179</td>\n",
       "      <td>[The soldier refused to take part in his mission to round up innocent civilians in the local village., The boy refused to let the missing part of his Lego set defeat him because he was on a mission to finish it.]</td>\n",
       "      <td>[The teenager refused to take part in the mission overseas with his parents' church group., The woman refused to take part in her husband's mission to end the lives of all vampires.]</td>\n",
       "      <td>[She had never refused any part of the mission., He had to admit, she'd refused to play the part of a true mission., He refused to take part in the mission, and he told me it was only because he'd not been there., He refused to part with his mission for his cousin., But he refused to play the part of a businessman or get involved in a spy mission.]</td>\n",
       "    </tr>\n",
       "    <tr>\n",
       "      <th>96</th>\n",
       "      <td>87e30fcd-0284-4fad-9b6d-fd796ba93df3.txt</td>\n",
       "      <td>168</td>\n",
       "      <td>easy</td>\n",
       "      <td>fully awake himself</td>\n",
       "      <td>189.861737</td>\n",
       "      <td>152.814830</td>\n",
       "      <td>[Although he was fully awake, he did not feel like himself this morning., The boy fully understood that he had to stay awake during the class period or he would never forgive himself for failing the test.]</td>\n",
       "      <td>[About an hour after the seizure, he was fully awake and feeling more like himself., The nurses waited until the little boy was fully awake and feeling like himself before leaving the recovery room to go back to the hospital room.]</td>\n",
       "      <td>[He was fully awake, and himself a bit more so., Alyah, fully awake, was holding himself up., The man was fully awake and aware of himself., He was fully awake and sweating by then, and he was thankful that he had not realized that he was still on the floor, but it was a shock to see himself standing in the middle of the floor., He wasn't fully awake yet and tried to get himself to rise.]</td>\n",
       "    </tr>\n",
       "    <tr>\n",
       "      <th>97</th>\n",
       "      <td>87e30fcd-0284-4fad-9b6d-fd796ba93df3.txt</td>\n",
       "      <td>3913</td>\n",
       "      <td>hard</td>\n",
       "      <td>i assurance observational</td>\n",
       "      <td>197.807902</td>\n",
       "      <td>156.915864</td>\n",
       "      <td>[I gave the patient assurance that the tests were observational and she had nothing to worry about at this point., I gave the assurance that the observational experiments were completely safe.]</td>\n",
       "      <td>[I needed complete assurance that I would be safe jumping from the plane because it looked extremely dangerous from an observational standpoint., I had to give assurance to my whole scientific team that the observational tests would be successful and that their hard work would pay off.]</td>\n",
       "      <td>[I'm not one to show any confidence and I want to show some assurance, but I need a very practical observational and practical., I received assurance of her safety, but did not expect any more observational evidence., But I did so with an assurance of my own observational experience., I felt certain that I had no assurance in the end, no observational evidence., I was still leaning on that assumption, but I had little assurance of my observational accuracy.]</td>\n",
       "    </tr>\n",
       "    <tr>\n",
       "      <th>98</th>\n",
       "      <td>87e30fcd-0284-4fad-9b6d-fd796ba93df3.txt</td>\n",
       "      <td>208</td>\n",
       "      <td>easy</td>\n",
       "      <td>walking and seeing</td>\n",
       "      <td>109.737740</td>\n",
       "      <td>143.893723</td>\n",
       "      <td>[The little children enjoyed walking through the zoo and seeing all the different animals., The boy's favorite activity was walking to the marina and seeing all of the boats in the water.]</td>\n",
       "      <td>[After being released from prison for a crime he didn't commit, the old man was thoroughly enjoying walking through the city and seeing how the world had changed., The woman cried when she saw her little girl walking and seeing for the first time after she got her new glasses.]</td>\n",
       "      <td>[She felt the urge to cry, but she kept walking and seeing no sign of it., He was walking in front of the stove and he looked down on the ground seeing what was going on., We were walking in and were immediately upon seeing what the neighbors had in store., She was walking with a friend, and she just happened to be seeing a man, a man, and he was going to kill her., She could hear men walking up and down the alley, and she didn't know what they were doing, but she couldn't deny seeing the resemblance.]</td>\n",
       "    </tr>\n",
       "    <tr>\n",
       "      <th>99</th>\n",
       "      <td>87e30fcd-0284-4fad-9b6d-fd796ba93df3.txt</td>\n",
       "      <td>1658</td>\n",
       "      <td>easy</td>\n",
       "      <td>want find me</td>\n",
       "      <td>92.846491</td>\n",
       "      <td>79.330326</td>\n",
       "      <td>[After the argument, I told my boyfriend if he were to want to, he knew where to find me., I want to find someone to date who has the same values and hobbies as me.]</td>\n",
       "      <td>[I want to play hide and seek but people always find me. , I want to go to the doctor to find out about the headaches that have been bothering me.]</td>\n",
       "      <td>[I want to find him and find him, but if you give me the time, I will give you the sword., If you want to find a job you're going to need me., I don't want anyone to find out about me., I don't want you to find out because you know you have no control over me., I didn't want to find out what was going on with me.]</td>\n",
       "    </tr>\n",
       "  </tbody>\n",
       "</table>\n",
       "<p>109 rows × 9 columns</p>\n",
       "</div>"
      ],
      "text/plain": [
       "                                   Session_ID  Block_ID Difficulty_Level  \\\n",
       "0    6f272542-6353-4256-8d79-a2ecf9e950c9.txt  1226      easy              \n",
       "1    6f272542-6353-4256-8d79-a2ecf9e950c9.txt  4117      hard              \n",
       "10   8951b4f7-be69-47fb-ab0a-280c02451a61.txt  3684      hard              \n",
       "100  07b1ecd8-916c-42af-9cb1-81e8ac6809b9.txt  2360      hard              \n",
       "101  07b1ecd8-916c-42af-9cb1-81e8ac6809b9.txt  3863      hard              \n",
       "..                                        ...   ...       ...              \n",
       "95   87e30fcd-0284-4fad-9b6d-fd796ba93df3.txt  3465      hard              \n",
       "96   87e30fcd-0284-4fad-9b6d-fd796ba93df3.txt  168       easy              \n",
       "97   87e30fcd-0284-4fad-9b6d-fd796ba93df3.txt  3913      hard              \n",
       "98   87e30fcd-0284-4fad-9b6d-fd796ba93df3.txt  208       easy              \n",
       "99   87e30fcd-0284-4fad-9b6d-fd796ba93df3.txt  1658      easy              \n",
       "\n",
       "                     Input_Words  Pre_Time_Elapsed  Post_Time_Elapsed  \\\n",
       "0    the old fashioned            42.728305         71.056639           \n",
       "1    different also examinations  210.952629        82.830748           \n",
       "10   intellect supreme dear       47.129451         313.557370          \n",
       "100  corner his away              100.300951        70.522892           \n",
       "101  mental these suggested       41.408520         100.626432          \n",
       "..                      ...             ...                ...          \n",
       "95   refused part mission         110.764766        112.306179          \n",
       "96   fully awake himself          189.861737        152.814830          \n",
       "97   i assurance observational    197.807902        156.915864          \n",
       "98   walking and seeing           109.737740        143.893723          \n",
       "99   want find me                 92.846491         79.330326           \n",
       "\n",
       "                                                                                                                                                                                                        Pre_User_Sentences  \\\n",
       "0    [The old fashioned prince arrived at the castle. , The old man arrived at the old fashioned restaurant.]                                                                                                                \n",
       "1    [The young doctor said that I needed two different sets of xrays and also needed more examinations. , The food tasted a lot different but could have also tasted odd because I had dental examinations done earlier.]   \n",
       "10   [The intellect of the supreme being was something the race held dear., My intellect regarding the topic of a supreme pizza was something nobody thought was dear.]                                                      \n",
       "100  [Someone had left piles of old furniture on the corner, so he shooed his neighbor's kids away., We walked to the corner so we could say goodbye to his grandmother before she went away.]                               \n",
       "101  [I asked the therapist for mental health aids, and these were some of the things she suggested., He's clearly mental, these are definitely not the art supplies the professor suggested.]                               \n",
       "..                                                                                                                                                                                         ...                               \n",
       "95   [The soldier refused to take part in his mission to round up innocent civilians in the local village., The boy refused to let the missing part of his Lego set defeat him because he was on a mission to finish it.]    \n",
       "96   [Although he was fully awake, he did not feel like himself this morning., The boy fully understood that he had to stay awake during the class period or he would never forgive himself for failing the test.]           \n",
       "97   [I gave the patient assurance that the tests were observational and she had nothing to worry about at this point., I gave the assurance that the observational experiments were completely safe.]                       \n",
       "98   [The little children enjoyed walking through the zoo and seeing all the different animals., The boy's favorite activity was walking to the marina and seeing all of the boats in the water.]                            \n",
       "99   [After the argument, I told my boyfriend if he were to want to, he knew where to find me., I want to find someone to date who has the same values and hobbies as me.]                                                   \n",
       "\n",
       "                                                                                                                                                                                                                                                                                 Post_User_Sentences  \\\n",
       "0    [I saw the old fashioned grandfather clock in the window display earlier today. , The old fashioned bartender told everyone that he normally does not serve drinks after 9pm.]                                                                                                                    \n",
       "1    [The different results also led the doctor to believe that more examinations were in order over the next few days. , The dogs were all different colors and they all also needed separate flea examinations.]                                                                                     \n",
       "10   [Her intellect was supreme above all others that she held dear., He thought his intellect was supreme but his dear sister thought otherwise.]                                                                                                                                                     \n",
       "100  [I stapled a sign to the corner of the room to notify his sister we had gone away on a trip., I never knew that the corner store was his home away from home.]                                                                                                                                    \n",
       "101  [I spend a few minutes each day doing the mental exercises these books I got from the library suggested will help me have a better memory., I want to be a mental health nurse, and these classes are suggested to help me prepare.]                                                              \n",
       "..                                                                                                                                                                                                                                    ...                                                              \n",
       "95   [The teenager refused to take part in the mission overseas with his parents' church group., The woman refused to take part in her husband's mission to end the lives of all vampires.]                                                                                                            \n",
       "96   [About an hour after the seizure, he was fully awake and feeling more like himself., The nurses waited until the little boy was fully awake and feeling like himself before leaving the recovery room to go back to the hospital room.]                                                           \n",
       "97   [I needed complete assurance that I would be safe jumping from the plane because it looked extremely dangerous from an observational standpoint., I had to give assurance to my whole scientific team that the observational tests would be successful and that their hard work would pay off.]   \n",
       "98   [After being released from prison for a crime he didn't commit, the old man was thoroughly enjoying walking through the city and seeing how the world had changed., The woman cried when she saw her little girl walking and seeing for the first time after she got her new glasses.]            \n",
       "99   [I want to play hide and seek but people always find me. , I want to go to the doctor to find out about the headaches that have been bothering me.]                                                                                                                                               \n",
       "\n",
       "                                                                                                                                                                                                                                                                                                                                                                                                                                                                                                                                                                                                                                                                                                                                    Generated_Sentences  \n",
       "0    [But the old fashioned life is short lived., The Old fashioned look of the project can't be much worse., In fact, the town was an old fashioned one., You can make the same mistakes as the old fashioned way., The former Old fashioned, but the latter is more polite.]                                                                                                                                                                                                                                                                                                                                                                                                                                                                           \n",
       "1    [But, that was different from her own, because she was also in her early stages of admission examinations., It is no different from the other prayers and also from the other examinations., Different characteristics of the different kinds of positive mental activities are also evident in different subjects, in which it seems that one has to pay attention to one's teacher in particular, as in examinations, because the teacher may not be aware of the objects., The activities of different students are also influenced by different degrees of success, as these examinations are to be one-sided., But this is not a different kind of missionary work, and it is also a more valuable thing to have these examinations as well.]  \n",
       "10   [Therefore, the Word of God's Wisdom, or the intellect of the Supreme Soul, is dear to the spiritual person., 'Not to you, but for your intellect, supreme, dear friend., You must have a refined intellect, the supreme ego, your dear self, and such not-so-subtle habits as you would think., Ana was of a man of a particular character and her intellect was supreme, dear friend., His intuition and the pure intellect of the Supreme Being are the very main means for creating the righteous, and he knows the expression of justice for a dear cause.]                                                                                                                                                                                    \n",
       "100  [He peered into the corner of the porch and looked over his shoulder to see his mother stepping away., He would have walked right out of the room, but he was startled when the corner of his door pulled away from the wall., He turned a corner, his eyes dark and pointed, his hair falling away from his face., In the corner of his eye, an old man turned away., In the corner of his eye, I saw the figure jump away.]                                                                                                                                                                                                                                                                                                                       \n",
       "101  [A mental picture of these events is suggested., As you know, we can't make a mental distinction between these three components of the tumor, as suggested., Yet there was also a mental connection between the two, that the allure of these seemed to have suggested., There is no need for mental energy for these two kinds of work, but it is suggested that the person who has this type of belief is likely to have a capacity to be useful., When the mental images were just beginning to be refined and a little stronger, the resulting reaction from these images suggested an astute observation.]                                                                                                                                     \n",
       "..                                                                                                                                                                                                                                                                                                                                                                                                                                                                                                                                                                                                               ...                                                                                                                                     \n",
       "95   [She had never refused any part of the mission., He had to admit, she'd refused to play the part of a true mission., He refused to take part in the mission, and he told me it was only because he'd not been there., He refused to part with his mission for his cousin., But he refused to play the part of a businessman or get involved in a spy mission.]                                                                                                                                                                                                                                                                                                                                                                                      \n",
       "96   [He was fully awake, and himself a bit more so., Alyah, fully awake, was holding himself up., The man was fully awake and aware of himself., He was fully awake and sweating by then, and he was thankful that he had not realized that he was still on the floor, but it was a shock to see himself standing in the middle of the floor., He wasn't fully awake yet and tried to get himself to rise.]                                                                                                                                                                                                                                                                                                                                             \n",
       "97   [I'm not one to show any confidence and I want to show some assurance, but I need a very practical observational and practical., I received assurance of her safety, but did not expect any more observational evidence., But I did so with an assurance of my own observational experience., I felt certain that I had no assurance in the end, no observational evidence., I was still leaning on that assumption, but I had little assurance of my observational accuracy.]                                                                                                                                                                                                                                                                      \n",
       "98   [She felt the urge to cry, but she kept walking and seeing no sign of it., He was walking in front of the stove and he looked down on the ground seeing what was going on., We were walking in and were immediately upon seeing what the neighbors had in store., She was walking with a friend, and she just happened to be seeing a man, a man, and he was going to kill her., She could hear men walking up and down the alley, and she didn't know what they were doing, but she couldn't deny seeing the resemblance.]                                                                                                                                                                                                                         \n",
       "99   [I want to find him and find him, but if you give me the time, I will give you the sword., If you want to find a job you're going to need me., I don't want anyone to find out about me., I don't want you to find out because you know you have no control over me., I didn't want to find out what was going on with me.]                                                                                                                                                                                                                                                                                                                                                                                                                         \n",
       "\n",
       "[109 rows x 9 columns]"
      ]
     },
     "execution_count": 2,
     "metadata": {},
     "output_type": "execute_result"
    }
   ],
   "source": [
    "'''Authoring blocks resulting from human authoring task'''\n",
    "\n",
    "authoring_blocks = pandas.read_json(\"authoring_blocks.json\")\n",
    "authoring_blocks"
   ]
  },
  {
   "cell_type": "code",
   "execution_count": 3,
   "metadata": {},
   "outputs": [
    {
     "data": {
      "text/html": [
       "<div>\n",
       "<style scoped>\n",
       "    .dataframe tbody tr th:only-of-type {\n",
       "        vertical-align: middle;\n",
       "    }\n",
       "\n",
       "    .dataframe tbody tr th {\n",
       "        vertical-align: top;\n",
       "    }\n",
       "\n",
       "    .dataframe thead th {\n",
       "        text-align: right;\n",
       "    }\n",
       "</style>\n",
       "<table border=\"1\" class=\"dataframe\">\n",
       "  <thead>\n",
       "    <tr style=\"text-align: right;\">\n",
       "      <th></th>\n",
       "      <th>Group_ID</th>\n",
       "      <th>Block_ID</th>\n",
       "      <th>Input_Words</th>\n",
       "      <th>Difficulty_Level</th>\n",
       "      <th>Pre_Sentence</th>\n",
       "      <th>Post_Sentence</th>\n",
       "      <th>Generated_Sentence</th>\n",
       "      <th>Prefers_Pre_Sentence</th>\n",
       "      <th>Prefers_Post_Sentence</th>\n",
       "      <th>Prefers_Generated_Sentence</th>\n",
       "      <th>Observed_Generated_Sentences</th>\n",
       "    </tr>\n",
       "  </thead>\n",
       "  <tbody>\n",
       "    <tr>\n",
       "      <th>0</th>\n",
       "      <td>0</td>\n",
       "      <td>1891</td>\n",
       "      <td>wake fallen asleep</td>\n",
       "      <td>easy</td>\n",
       "      <td>The mother yelled at the child to wake up but the child had fallen asleep again in front of the TV.</td>\n",
       "      <td>The dog would wake up the baby with it's loud bark after the baby had fallen asleep.</td>\n",
       "      <td>I wake up to find myself fallen asleep again.</td>\n",
       "      <td>0</td>\n",
       "      <td>1</td>\n",
       "      <td>0</td>\n",
       "      <td>[I wake up to find myself fallen asleep again., He'd wake the other night and find her had fallen asleep., I wake up in a cold sweat after I have fallen asleep., When I wake up, I've fallen asleep., They would wake the fallen enemy and fall asleep with him.]</td>\n",
       "    </tr>\n",
       "    <tr>\n",
       "      <th>1</th>\n",
       "      <td>0</td>\n",
       "      <td>1891</td>\n",
       "      <td>wake fallen asleep</td>\n",
       "      <td>easy</td>\n",
       "      <td>The mother yelled at the child to wake up but the child had fallen asleep again in front of the TV.</td>\n",
       "      <td>The dog would wake up the baby with it's loud bark after the baby had fallen asleep.</td>\n",
       "      <td>I wake up to find myself fallen asleep again.</td>\n",
       "      <td>0</td>\n",
       "      <td>1</td>\n",
       "      <td>0</td>\n",
       "      <td>[I wake up to find myself fallen asleep again., He'd wake the other night and find her had fallen asleep., I wake up in a cold sweat after I have fallen asleep., When I wake up, I've fallen asleep., They would wake the fallen enemy and fall asleep with him.]</td>\n",
       "    </tr>\n",
       "    <tr>\n",
       "      <th>2</th>\n",
       "      <td>1</td>\n",
       "      <td>2004</td>\n",
       "      <td>are cancer treatment</td>\n",
       "      <td>easy</td>\n",
       "      <td>There are many people battling cancer that are looking for an alternative treatment.</td>\n",
       "      <td>Many companies are researching cancer in hopes to come up with a milder form of effective treatment.</td>\n",
       "      <td>You are not a doctor and you are not a patient, so your cancer treatment is just a minor miracle.</td>\n",
       "      <td>0</td>\n",
       "      <td>0</td>\n",
       "      <td>1</td>\n",
       "      <td>[You are not a doctor and you are not a patient, so your cancer treatment is just a minor miracle., Our findings are currently being validated in an orthotopic pancreatic cancer model for treatment of CRC., Those patients are not eligible for cancer treatment and may die., We are discussing ways to eradicate cancer by introducing treatment strategies., We are currently under investigation and are currently studying the effect of ESR1 inhibition on cancer cell survival, and the mechanism of treatment-mediated apoptosis and apoptosis in vivo.]</td>\n",
       "    </tr>\n",
       "    <tr>\n",
       "      <th>3</th>\n",
       "      <td>1</td>\n",
       "      <td>2004</td>\n",
       "      <td>are cancer treatment</td>\n",
       "      <td>easy</td>\n",
       "      <td>There are many people battling cancer that are looking for an alternative treatment.</td>\n",
       "      <td>Many companies are researching cancer in hopes to come up with a milder form of effective treatment.</td>\n",
       "      <td>You are not a doctor and you are not a patient, so your cancer treatment is just a minor miracle.</td>\n",
       "      <td>0</td>\n",
       "      <td>1</td>\n",
       "      <td>0</td>\n",
       "      <td>[You are not a doctor and you are not a patient, so your cancer treatment is just a minor miracle., Our findings are currently being validated in an orthotopic pancreatic cancer model for treatment of CRC., Those patients are not eligible for cancer treatment and may die., We are discussing ways to eradicate cancer by introducing treatment strategies., We are currently under investigation and are currently studying the effect of ESR1 inhibition on cancer cell survival, and the mechanism of treatment-mediated apoptosis and apoptosis in vivo.]</td>\n",
       "    </tr>\n",
       "    <tr>\n",
       "      <th>4</th>\n",
       "      <td>2</td>\n",
       "      <td>208</td>\n",
       "      <td>walking and seeing</td>\n",
       "      <td>easy</td>\n",
       "      <td>The little children enjoyed walking through the zoo and seeing all the different animals.</td>\n",
       "      <td>The woman cried when she saw her little girl walking and seeing for the first time after she got her new glasses.</td>\n",
       "      <td>She felt the urge to cry, but she kept walking and seeing no sign of it.</td>\n",
       "      <td>1</td>\n",
       "      <td>0</td>\n",
       "      <td>0</td>\n",
       "      <td>[She felt the urge to cry, but she kept walking and seeing no sign of it., He was walking in front of the stove and he looked down on the ground seeing what was going on., We were walking in and were immediately upon seeing what the neighbors had in store., She was walking with a friend, and she just happened to be seeing a man, a man, and he was going to kill her., She could hear men walking up and down the alley, and she didn't know what they were doing, but she couldn't deny seeing the resemblance.]</td>\n",
       "    </tr>\n",
       "    <tr>\n",
       "      <th>...</th>\n",
       "      <td>...</td>\n",
       "      <td>...</td>\n",
       "      <td>...</td>\n",
       "      <td>...</td>\n",
       "      <td>...</td>\n",
       "      <td>...</td>\n",
       "      <td>...</td>\n",
       "      <td>...</td>\n",
       "      <td>...</td>\n",
       "      <td>...</td>\n",
       "      <td>...</td>\n",
       "    </tr>\n",
       "    <tr>\n",
       "      <th>1739</th>\n",
       "      <td>869</td>\n",
       "      <td>771</td>\n",
       "      <td>felt meet again</td>\n",
       "      <td>easy</td>\n",
       "      <td>Jenna felt a spooky sense of deja vu and felt that she was about to meet a familiar stranger yet again.</td>\n",
       "      <td>She could hardly control the strong urge she felt to secretly meet Matt again.</td>\n",
       "      <td>I felt so relieved to meet you again.</td>\n",
       "      <td>1</td>\n",
       "      <td>0</td>\n",
       "      <td>0</td>\n",
       "      <td>[After she turned sixteen, she felt that she was no longer worthy to meet him again., I felt so relieved to meet you again., He felt a sudden urge to meet up with John again., I felt as if I had to meet again., He felt a kinship to them, and they would never meet again.]</td>\n",
       "    </tr>\n",
       "    <tr>\n",
       "      <th>1740</th>\n",
       "      <td>870</td>\n",
       "      <td>3910</td>\n",
       "      <td>was smear heat</td>\n",
       "      <td>hard</td>\n",
       "      <td>There was a blood smear on her face and sweat from the heat.</td>\n",
       "      <td>There was a paint smear that dried up in the scouring heat.</td>\n",
       "      <td>I was surprised to see a smear of skin beneath the heat.</td>\n",
       "      <td>1</td>\n",
       "      <td>0</td>\n",
       "      <td>0</td>\n",
       "      <td>[It was a big smear of heat from the sun., I was surprised to see a smear of skin beneath the heat., The material was burnt and a faint smear of red pebble stuck to it, but the heat was nothing to the blood, not even as it gushed from his face., I was pale and trembling with the white and pink, a smear of sun, and my body shivered under the heat., There was a smear of grease and the odor of cooking oil in the heat.]</td>\n",
       "    </tr>\n",
       "    <tr>\n",
       "      <th>1741</th>\n",
       "      <td>870</td>\n",
       "      <td>3910</td>\n",
       "      <td>was smear heat</td>\n",
       "      <td>hard</td>\n",
       "      <td>There was a blood smear on her face and sweat from the heat.</td>\n",
       "      <td>There was a paint smear that dried up in the scouring heat.</td>\n",
       "      <td>I was surprised to see a smear of skin beneath the heat.</td>\n",
       "      <td>0</td>\n",
       "      <td>0</td>\n",
       "      <td>1</td>\n",
       "      <td>[It was a big smear of heat from the sun., I was surprised to see a smear of skin beneath the heat., The material was burnt and a faint smear of red pebble stuck to it, but the heat was nothing to the blood, not even as it gushed from his face., I was pale and trembling with the white and pink, a smear of sun, and my body shivered under the heat., There was a smear of grease and the odor of cooking oil in the heat.]</td>\n",
       "    </tr>\n",
       "    <tr>\n",
       "      <th>1742</th>\n",
       "      <td>871</td>\n",
       "      <td>29</td>\n",
       "      <td>enemy at bay</td>\n",
       "      <td>easy</td>\n",
       "      <td>The lookout scanned the horizon at dusk, as the army expected the enemy to attack at the shore of the bay.</td>\n",
       "      <td>The soldier kept his enemy at bay by brandishing his automatic rifle and hand grenades.</td>\n",
       "      <td>His enemy was able to get their eyes at bay.</td>\n",
       "      <td>1</td>\n",
       "      <td>0</td>\n",
       "      <td>0</td>\n",
       "      <td>[I know I am not enemy but I am not at bay., His enemy was able to get their eyes at bay., The enemy was at the gate, but their weapons were long dead at bay., He wanted to look at the enemy and be able to shoot them at bay., No longer in the enemy's company at bay.]</td>\n",
       "    </tr>\n",
       "    <tr>\n",
       "      <th>1743</th>\n",
       "      <td>871</td>\n",
       "      <td>29</td>\n",
       "      <td>enemy at bay</td>\n",
       "      <td>easy</td>\n",
       "      <td>The lookout scanned the horizon at dusk, as the army expected the enemy to attack at the shore of the bay.</td>\n",
       "      <td>The soldier kept his enemy at bay by brandishing his automatic rifle and hand grenades.</td>\n",
       "      <td>His enemy was able to get their eyes at bay.</td>\n",
       "      <td>0</td>\n",
       "      <td>1</td>\n",
       "      <td>0</td>\n",
       "      <td>[I know I am not enemy but I am not at bay., His enemy was able to get their eyes at bay., The enemy was at the gate, but their weapons were long dead at bay., He wanted to look at the enemy and be able to shoot them at bay., No longer in the enemy's company at bay.]</td>\n",
       "    </tr>\n",
       "  </tbody>\n",
       "</table>\n",
       "<p>1744 rows × 11 columns</p>\n",
       "</div>"
      ],
      "text/plain": [
       "      Group_ID  Block_ID           Input_Words Difficulty_Level  \\\n",
       "0     0         1891      wake fallen asleep    easy              \n",
       "1     0         1891      wake fallen asleep    easy              \n",
       "2     1         2004      are cancer treatment  easy              \n",
       "3     1         2004      are cancer treatment  easy              \n",
       "4     2         208       walking and seeing    easy              \n",
       "...  ..         ...                      ...     ...              \n",
       "1739  869       771       felt meet again       easy              \n",
       "1740  870       3910      was smear heat        hard              \n",
       "1741  870       3910      was smear heat        hard              \n",
       "1742  871       29        enemy at bay          easy              \n",
       "1743  871       29        enemy at bay          easy              \n",
       "\n",
       "                                                                                                    Pre_Sentence  \\\n",
       "0     The mother yelled at the child to wake up but the child had fallen asleep again in front of the TV.          \n",
       "1     The mother yelled at the child to wake up but the child had fallen asleep again in front of the TV.          \n",
       "2     There are many people battling cancer that are looking for an alternative treatment.                         \n",
       "3     There are many people battling cancer that are looking for an alternative treatment.                         \n",
       "4     The little children enjoyed walking through the zoo and seeing all the different animals.                    \n",
       "...                                                                                         ...                    \n",
       "1739  Jenna felt a spooky sense of deja vu and felt that she was about to meet a familiar stranger yet again.      \n",
       "1740  There was a blood smear on her face and sweat from the heat.                                                 \n",
       "1741  There was a blood smear on her face and sweat from the heat.                                                 \n",
       "1742  The lookout scanned the horizon at dusk, as the army expected the enemy to attack at the shore of the bay.   \n",
       "1743  The lookout scanned the horizon at dusk, as the army expected the enemy to attack at the shore of the bay.   \n",
       "\n",
       "                                                                                                          Post_Sentence  \\\n",
       "0     The dog would wake up the baby with it's loud bark after the baby had fallen asleep.                                \n",
       "1     The dog would wake up the baby with it's loud bark after the baby had fallen asleep.                                \n",
       "2     Many companies are researching cancer in hopes to come up with a milder form of effective treatment.                \n",
       "3     Many companies are researching cancer in hopes to come up with a milder form of effective treatment.                \n",
       "4     The woman cried when she saw her little girl walking and seeing for the first time after she got her new glasses.   \n",
       "...                                                                                                                 ...   \n",
       "1739  She could hardly control the strong urge she felt to secretly meet Matt again.                                      \n",
       "1740  There was a paint smear that dried up in the scouring heat.                                                         \n",
       "1741  There was a paint smear that dried up in the scouring heat.                                                         \n",
       "1742  The soldier kept his enemy at bay by brandishing his automatic rifle and hand grenades.                             \n",
       "1743  The soldier kept his enemy at bay by brandishing his automatic rifle and hand grenades.                             \n",
       "\n",
       "                                                                                     Generated_Sentence  \\\n",
       "0     I wake up to find myself fallen asleep again.                                                       \n",
       "1     I wake up to find myself fallen asleep again.                                                       \n",
       "2     You are not a doctor and you are not a patient, so your cancer treatment is just a minor miracle.   \n",
       "3     You are not a doctor and you are not a patient, so your cancer treatment is just a minor miracle.   \n",
       "4     She felt the urge to cry, but she kept walking and seeing no sign of it.                            \n",
       "...                                                                        ...                            \n",
       "1739  I felt so relieved to meet you again.                                                               \n",
       "1740  I was surprised to see a smear of skin beneath the heat.                                            \n",
       "1741  I was surprised to see a smear of skin beneath the heat.                                            \n",
       "1742  His enemy was able to get their eyes at bay.                                                        \n",
       "1743  His enemy was able to get their eyes at bay.                                                        \n",
       "\n",
       "      Prefers_Pre_Sentence  Prefers_Post_Sentence  Prefers_Generated_Sentence  \\\n",
       "0     0                     1                      0                            \n",
       "1     0                     1                      0                            \n",
       "2     0                     0                      1                            \n",
       "3     0                     1                      0                            \n",
       "4     1                     0                      0                            \n",
       "...  ..                    ..                     ..                            \n",
       "1739  1                     0                      0                            \n",
       "1740  1                     0                      0                            \n",
       "1741  0                     0                      1                            \n",
       "1742  1                     0                      0                            \n",
       "1743  0                     1                      0                            \n",
       "\n",
       "                                                                                                                                                                                                                                                                                                                                                                                                                                                                                                                                             Observed_Generated_Sentences  \n",
       "0     [I wake up to find myself fallen asleep again., He'd wake the other night and find her had fallen asleep., I wake up in a cold sweat after I have fallen asleep., When I wake up, I've fallen asleep., They would wake the fallen enemy and fall asleep with him.]                                                                                                                                                                                                                                                                                                   \n",
       "1     [I wake up to find myself fallen asleep again., He'd wake the other night and find her had fallen asleep., I wake up in a cold sweat after I have fallen asleep., When I wake up, I've fallen asleep., They would wake the fallen enemy and fall asleep with him.]                                                                                                                                                                                                                                                                                                   \n",
       "2     [You are not a doctor and you are not a patient, so your cancer treatment is just a minor miracle., Our findings are currently being validated in an orthotopic pancreatic cancer model for treatment of CRC., Those patients are not eligible for cancer treatment and may die., We are discussing ways to eradicate cancer by introducing treatment strategies., We are currently under investigation and are currently studying the effect of ESR1 inhibition on cancer cell survival, and the mechanism of treatment-mediated apoptosis and apoptosis in vivo.]  \n",
       "3     [You are not a doctor and you are not a patient, so your cancer treatment is just a minor miracle., Our findings are currently being validated in an orthotopic pancreatic cancer model for treatment of CRC., Those patients are not eligible for cancer treatment and may die., We are discussing ways to eradicate cancer by introducing treatment strategies., We are currently under investigation and are currently studying the effect of ESR1 inhibition on cancer cell survival, and the mechanism of treatment-mediated apoptosis and apoptosis in vivo.]  \n",
       "4     [She felt the urge to cry, but she kept walking and seeing no sign of it., He was walking in front of the stove and he looked down on the ground seeing what was going on., We were walking in and were immediately upon seeing what the neighbors had in store., She was walking with a friend, and she just happened to be seeing a man, a man, and he was going to kill her., She could hear men walking up and down the alley, and she didn't know what they were doing, but she couldn't deny seeing the resemblance.]                                          \n",
       "...                                                                                                                                                                                                                                                                                                                                                                                                                                                                                                                           ...                                          \n",
       "1739  [After she turned sixteen, she felt that she was no longer worthy to meet him again., I felt so relieved to meet you again., He felt a sudden urge to meet up with John again., I felt as if I had to meet again., He felt a kinship to them, and they would never meet again.]                                                                                                                                                                                                                                                                                      \n",
       "1740  [It was a big smear of heat from the sun., I was surprised to see a smear of skin beneath the heat., The material was burnt and a faint smear of red pebble stuck to it, but the heat was nothing to the blood, not even as it gushed from his face., I was pale and trembling with the white and pink, a smear of sun, and my body shivered under the heat., There was a smear of grease and the odor of cooking oil in the heat.]                                                                                                                                  \n",
       "1741  [It was a big smear of heat from the sun., I was surprised to see a smear of skin beneath the heat., The material was burnt and a faint smear of red pebble stuck to it, but the heat was nothing to the blood, not even as it gushed from his face., I was pale and trembling with the white and pink, a smear of sun, and my body shivered under the heat., There was a smear of grease and the odor of cooking oil in the heat.]                                                                                                                                  \n",
       "1742  [I know I am not enemy but I am not at bay., His enemy was able to get their eyes at bay., The enemy was at the gate, but their weapons were long dead at bay., He wanted to look at the enemy and be able to shoot them at bay., No longer in the enemy's company at bay.]                                                                                                                                                                                                                                                                                          \n",
       "1743  [I know I am not enemy but I am not at bay., His enemy was able to get their eyes at bay., The enemy was at the gate, but their weapons were long dead at bay., He wanted to look at the enemy and be able to shoot them at bay., No longer in the enemy's company at bay.]                                                                                                                                                                                                                                                                                          \n",
       "\n",
       "[1744 rows x 11 columns]"
      ]
     },
     "execution_count": 3,
     "metadata": {},
     "output_type": "execute_result"
    }
   ],
   "source": [
    "'''Rater responses for judgment groups'''\n",
    "\n",
    "responses = pandas.read_json(\"judgment_group_responses.json\")\n",
    "responses"
   ]
  },
  {
   "cell_type": "markdown",
   "metadata": {},
   "source": [
    "### Permutation test for statistical significance"
   ]
  },
  {
   "cell_type": "code",
   "execution_count": 4,
   "metadata": {},
   "outputs": [],
   "source": [
    "import numpy\n",
    "\n",
    "def eval_diff(model1_values, model2_values, num_trials=100000, verbose=False):\n",
    "    '''return p-value of difference between model1_values and model2_values'''\n",
    "\n",
    "    model1_values = model1_values.flatten()\n",
    "    model2_values = model2_values.flatten()\n",
    "    # filter any NaN values\n",
    "    model1_values = model1_values[~numpy.isnan(model1_values)]\n",
    "    model2_values = model2_values[~numpy.isnan(model2_values)]\n",
    "    model_difference = numpy.mean(model2_values) - numpy.mean(model1_values)\n",
    "    counter = 0\n",
    "    for trial in range(num_trials):\n",
    "        # reshuffle all predictions between these 2 models\n",
    "        values = numpy.concatenate((model1_values, model2_values))\n",
    "        numpy.random.shuffle(values)\n",
    "        model1_sample = values[:len(model1_values)]\n",
    "        model2_sample = values[-len(model2_values):]\n",
    "        sample_difference = numpy.mean(model2_sample) - numpy.mean(model1_sample)\n",
    "        if numpy.abs(sample_difference) >= numpy.abs(model_difference):  # two tailed test\n",
    "            counter += 1\n",
    "        if verbose and trial % 500 == 0:\n",
    "            print(\"completed\", trial, \"trials...\")\n",
    "    p_val = float(counter + 1) / (num_trials + 1)\n",
    "\n",
    "    return p_val"
   ]
  },
  {
   "cell_type": "markdown",
   "metadata": {},
   "source": [
    "### Results"
   ]
  },
  {
   "cell_type": "markdown",
   "metadata": {},
   "source": [
    "#### Human vs. Generated Storiability (Table 3)"
   ]
  },
  {
   "cell_type": "code",
   "execution_count": 5,
   "metadata": {},
   "outputs": [
    {
     "data": {
      "text/plain": [
       "Prefers_Pre_Sentence          0.356078\n",
       "Prefers_Post_Sentence         0.364679\n",
       "Prefers_Generated_Sentence    0.279243\n",
       "dtype: float64"
      ]
     },
     "execution_count": 5,
     "metadata": {},
     "output_type": "execute_result"
    }
   ],
   "source": [
    "responses[['Prefers_Pre_Sentence',\n",
    "           'Prefers_Post_Sentence',\n",
    "           'Prefers_Generated_Sentence']].mean()"
   ]
  },
  {
   "cell_type": "code",
   "execution_count": 6,
   "metadata": {},
   "outputs": [
    {
     "data": {
      "text/plain": [
       "9.99990000099999e-06"
      ]
     },
     "execution_count": 6,
     "metadata": {},
     "output_type": "execute_result"
    }
   ],
   "source": [
    "eval_diff(responses['Prefers_Pre_Sentence'].values, \n",
    "          responses['Prefers_Generated_Sentence'].values)"
   ]
  },
  {
   "cell_type": "markdown",
   "metadata": {},
   "source": [
    "#### Prompt Difficulty and Storiability (Table 5)"
   ]
  },
  {
   "cell_type": "code",
   "execution_count": 7,
   "metadata": {},
   "outputs": [
    {
     "data": {
      "text/html": [
       "<div>\n",
       "<style scoped>\n",
       "    .dataframe tbody tr th:only-of-type {\n",
       "        vertical-align: middle;\n",
       "    }\n",
       "\n",
       "    .dataframe tbody tr th {\n",
       "        vertical-align: top;\n",
       "    }\n",
       "\n",
       "    .dataframe thead th {\n",
       "        text-align: right;\n",
       "    }\n",
       "</style>\n",
       "<table border=\"1\" class=\"dataframe\">\n",
       "  <thead>\n",
       "    <tr style=\"text-align: right;\">\n",
       "      <th></th>\n",
       "      <th>Prefers_Pre_Sentence</th>\n",
       "      <th>Prefers_Post_Sentence</th>\n",
       "      <th>Prefers_Generated_Sentence</th>\n",
       "    </tr>\n",
       "    <tr>\n",
       "      <th>Difficulty_Level</th>\n",
       "      <th></th>\n",
       "      <th></th>\n",
       "      <th></th>\n",
       "    </tr>\n",
       "  </thead>\n",
       "  <tbody>\n",
       "    <tr>\n",
       "      <th>easy</th>\n",
       "      <td>0.384434</td>\n",
       "      <td>0.353774</td>\n",
       "      <td>0.261792</td>\n",
       "    </tr>\n",
       "    <tr>\n",
       "      <th>hard</th>\n",
       "      <td>0.329241</td>\n",
       "      <td>0.375000</td>\n",
       "      <td>0.295759</td>\n",
       "    </tr>\n",
       "  </tbody>\n",
       "</table>\n",
       "</div>"
      ],
      "text/plain": [
       "                  Prefers_Pre_Sentence  Prefers_Post_Sentence  \\\n",
       "Difficulty_Level                                                \n",
       "easy              0.384434              0.353774                \n",
       "hard              0.329241              0.375000                \n",
       "\n",
       "                  Prefers_Generated_Sentence  \n",
       "Difficulty_Level                              \n",
       "easy              0.261792                    \n",
       "hard              0.295759                    "
      ]
     },
     "execution_count": 7,
     "metadata": {},
     "output_type": "execute_result"
    }
   ],
   "source": [
    "responses.groupby('Difficulty_Level')[['Prefers_Pre_Sentence',\n",
    "           'Prefers_Post_Sentence',\n",
    "           'Prefers_Generated_Sentence']].mean()"
   ]
  },
  {
   "cell_type": "code",
   "execution_count": 8,
   "metadata": {},
   "outputs": [],
   "source": [
    "easy_responses = responses[responses['Difficulty_Level'] == 'easy']\n",
    "hard_responses = responses[responses['Difficulty_Level'] == 'hard']"
   ]
  },
  {
   "cell_type": "code",
   "execution_count": 9,
   "metadata": {},
   "outputs": [
    {
     "data": {
      "text/plain": [
       "0.20982790172098278"
      ]
     },
     "execution_count": 9,
     "metadata": {},
     "output_type": "execute_result"
    }
   ],
   "source": [
    "eval_diff(easy_responses['Prefers_Pre_Sentence'].values, \n",
    "          easy_responses['Prefers_Post_Sentence'].values)"
   ]
  },
  {
   "cell_type": "code",
   "execution_count": 10,
   "metadata": {},
   "outputs": [
    {
     "data": {
      "text/plain": [
       "0.047239527604723955"
      ]
     },
     "execution_count": 10,
     "metadata": {},
     "output_type": "execute_result"
    }
   ],
   "source": [
    "eval_diff(hard_responses['Prefers_Pre_Sentence'].values,\n",
    "          hard_responses['Prefers_Post_Sentence'].values)"
   ]
  },
  {
   "cell_type": "markdown",
   "metadata": {},
   "source": [
    "##### For other analyses of human-authored sentences, reshape response data into one sentence per row, where each sentence is marked as preferred or not preferred"
   ]
  },
  {
   "cell_type": "code",
   "execution_count": 11,
   "metadata": {},
   "outputs": [
    {
     "data": {
      "text/html": [
       "<div>\n",
       "<style scoped>\n",
       "    .dataframe tbody tr th:only-of-type {\n",
       "        vertical-align: middle;\n",
       "    }\n",
       "\n",
       "    .dataframe tbody tr th {\n",
       "        vertical-align: top;\n",
       "    }\n",
       "\n",
       "    .dataframe thead th {\n",
       "        text-align: right;\n",
       "    }\n",
       "</style>\n",
       "<table border=\"1\" class=\"dataframe\">\n",
       "  <thead>\n",
       "    <tr style=\"text-align: right;\">\n",
       "      <th></th>\n",
       "      <th>Item_Num</th>\n",
       "      <th>Group_ID</th>\n",
       "      <th>Block_ID</th>\n",
       "      <th>Sentence</th>\n",
       "      <th>Input_Words</th>\n",
       "      <th>Difficulty_Level</th>\n",
       "      <th>Condition</th>\n",
       "      <th>Is_Preferred</th>\n",
       "      <th>Observed_Examples</th>\n",
       "    </tr>\n",
       "  </thead>\n",
       "  <tbody>\n",
       "    <tr>\n",
       "      <th>0</th>\n",
       "      <td>0</td>\n",
       "      <td>0</td>\n",
       "      <td>1891</td>\n",
       "      <td>The mother yelled at the child to wake up but the child had fallen asleep again in front of the TV.</td>\n",
       "      <td>wake fallen asleep</td>\n",
       "      <td>easy</td>\n",
       "      <td>Pre</td>\n",
       "      <td>0</td>\n",
       "      <td>[I wake up to find myself fallen asleep again., He'd wake the other night and find her had fallen asleep., I wake up in a cold sweat after I have fallen asleep., When I wake up, I've fallen asleep., They would wake the fallen enemy and fall asleep with him.]</td>\n",
       "    </tr>\n",
       "    <tr>\n",
       "      <th>1</th>\n",
       "      <td>0</td>\n",
       "      <td>0</td>\n",
       "      <td>1891</td>\n",
       "      <td>The dog would wake up the baby with it's loud bark after the baby had fallen asleep.</td>\n",
       "      <td>wake fallen asleep</td>\n",
       "      <td>easy</td>\n",
       "      <td>Post</td>\n",
       "      <td>1</td>\n",
       "      <td>[I wake up to find myself fallen asleep again., He'd wake the other night and find her had fallen asleep., I wake up in a cold sweat after I have fallen asleep., When I wake up, I've fallen asleep., They would wake the fallen enemy and fall asleep with him.]</td>\n",
       "    </tr>\n",
       "    <tr>\n",
       "      <th>2</th>\n",
       "      <td>1</td>\n",
       "      <td>0</td>\n",
       "      <td>1891</td>\n",
       "      <td>The mother yelled at the child to wake up but the child had fallen asleep again in front of the TV.</td>\n",
       "      <td>wake fallen asleep</td>\n",
       "      <td>easy</td>\n",
       "      <td>Pre</td>\n",
       "      <td>0</td>\n",
       "      <td>[I wake up to find myself fallen asleep again., He'd wake the other night and find her had fallen asleep., I wake up in a cold sweat after I have fallen asleep., When I wake up, I've fallen asleep., They would wake the fallen enemy and fall asleep with him.]</td>\n",
       "    </tr>\n",
       "    <tr>\n",
       "      <th>3</th>\n",
       "      <td>1</td>\n",
       "      <td>0</td>\n",
       "      <td>1891</td>\n",
       "      <td>The dog would wake up the baby with it's loud bark after the baby had fallen asleep.</td>\n",
       "      <td>wake fallen asleep</td>\n",
       "      <td>easy</td>\n",
       "      <td>Post</td>\n",
       "      <td>1</td>\n",
       "      <td>[I wake up to find myself fallen asleep again., He'd wake the other night and find her had fallen asleep., I wake up in a cold sweat after I have fallen asleep., When I wake up, I've fallen asleep., They would wake the fallen enemy and fall asleep with him.]</td>\n",
       "    </tr>\n",
       "    <tr>\n",
       "      <th>4</th>\n",
       "      <td>2</td>\n",
       "      <td>1</td>\n",
       "      <td>2004</td>\n",
       "      <td>There are many people battling cancer that are looking for an alternative treatment.</td>\n",
       "      <td>are cancer treatment</td>\n",
       "      <td>easy</td>\n",
       "      <td>Pre</td>\n",
       "      <td>0</td>\n",
       "      <td>[You are not a doctor and you are not a patient, so your cancer treatment is just a minor miracle., Our findings are currently being validated in an orthotopic pancreatic cancer model for treatment of CRC., Those patients are not eligible for cancer treatment and may die., We are discussing ways to eradicate cancer by introducing treatment strategies., We are currently under investigation and are currently studying the effect of ESR1 inhibition on cancer cell survival, and the mechanism of treatment-mediated apoptosis and apoptosis in vivo.]</td>\n",
       "    </tr>\n",
       "    <tr>\n",
       "      <th>...</th>\n",
       "      <td>...</td>\n",
       "      <td>...</td>\n",
       "      <td>...</td>\n",
       "      <td>...</td>\n",
       "      <td>...</td>\n",
       "      <td>...</td>\n",
       "      <td>...</td>\n",
       "      <td>...</td>\n",
       "      <td>...</td>\n",
       "    </tr>\n",
       "    <tr>\n",
       "      <th>3483</th>\n",
       "      <td>1741</td>\n",
       "      <td>870</td>\n",
       "      <td>3910</td>\n",
       "      <td>There was a paint smear that dried up in the scouring heat.</td>\n",
       "      <td>was smear heat</td>\n",
       "      <td>hard</td>\n",
       "      <td>Post</td>\n",
       "      <td>0</td>\n",
       "      <td>[It was a big smear of heat from the sun., I was surprised to see a smear of skin beneath the heat., The material was burnt and a faint smear of red pebble stuck to it, but the heat was nothing to the blood, not even as it gushed from his face., I was pale and trembling with the white and pink, a smear of sun, and my body shivered under the heat., There was a smear of grease and the odor of cooking oil in the heat.]</td>\n",
       "    </tr>\n",
       "    <tr>\n",
       "      <th>3484</th>\n",
       "      <td>1742</td>\n",
       "      <td>871</td>\n",
       "      <td>29</td>\n",
       "      <td>The lookout scanned the horizon at dusk, as the army expected the enemy to attack at the shore of the bay.</td>\n",
       "      <td>enemy at bay</td>\n",
       "      <td>easy</td>\n",
       "      <td>Pre</td>\n",
       "      <td>1</td>\n",
       "      <td>[I know I am not enemy but I am not at bay., His enemy was able to get their eyes at bay., The enemy was at the gate, but their weapons were long dead at bay., He wanted to look at the enemy and be able to shoot them at bay., No longer in the enemy's company at bay.]</td>\n",
       "    </tr>\n",
       "    <tr>\n",
       "      <th>3485</th>\n",
       "      <td>1742</td>\n",
       "      <td>871</td>\n",
       "      <td>29</td>\n",
       "      <td>The soldier kept his enemy at bay by brandishing his automatic rifle and hand grenades.</td>\n",
       "      <td>enemy at bay</td>\n",
       "      <td>easy</td>\n",
       "      <td>Post</td>\n",
       "      <td>0</td>\n",
       "      <td>[I know I am not enemy but I am not at bay., His enemy was able to get their eyes at bay., The enemy was at the gate, but their weapons were long dead at bay., He wanted to look at the enemy and be able to shoot them at bay., No longer in the enemy's company at bay.]</td>\n",
       "    </tr>\n",
       "    <tr>\n",
       "      <th>3486</th>\n",
       "      <td>1743</td>\n",
       "      <td>871</td>\n",
       "      <td>29</td>\n",
       "      <td>The lookout scanned the horizon at dusk, as the army expected the enemy to attack at the shore of the bay.</td>\n",
       "      <td>enemy at bay</td>\n",
       "      <td>easy</td>\n",
       "      <td>Pre</td>\n",
       "      <td>0</td>\n",
       "      <td>[I know I am not enemy but I am not at bay., His enemy was able to get their eyes at bay., The enemy was at the gate, but their weapons were long dead at bay., He wanted to look at the enemy and be able to shoot them at bay., No longer in the enemy's company at bay.]</td>\n",
       "    </tr>\n",
       "    <tr>\n",
       "      <th>3487</th>\n",
       "      <td>1743</td>\n",
       "      <td>871</td>\n",
       "      <td>29</td>\n",
       "      <td>The soldier kept his enemy at bay by brandishing his automatic rifle and hand grenades.</td>\n",
       "      <td>enemy at bay</td>\n",
       "      <td>easy</td>\n",
       "      <td>Post</td>\n",
       "      <td>1</td>\n",
       "      <td>[I know I am not enemy but I am not at bay., His enemy was able to get their eyes at bay., The enemy was at the gate, but their weapons were long dead at bay., He wanted to look at the enemy and be able to shoot them at bay., No longer in the enemy's company at bay.]</td>\n",
       "    </tr>\n",
       "  </tbody>\n",
       "</table>\n",
       "<p>3488 rows × 9 columns</p>\n",
       "</div>"
      ],
      "text/plain": [
       "      Item_Num  Group_ID  Block_ID  \\\n",
       "0     0         0         1891       \n",
       "1     0         0         1891       \n",
       "2     1         0         1891       \n",
       "3     1         0         1891       \n",
       "4     2         1         2004       \n",
       "...  ..        ..          ...       \n",
       "3483  1741      870       3910       \n",
       "3484  1742      871       29         \n",
       "3485  1742      871       29         \n",
       "3486  1743      871       29         \n",
       "3487  1743      871       29         \n",
       "\n",
       "                                                                                                        Sentence  \\\n",
       "0     The mother yelled at the child to wake up but the child had fallen asleep again in front of the TV.          \n",
       "1     The dog would wake up the baby with it's loud bark after the baby had fallen asleep.                         \n",
       "2     The mother yelled at the child to wake up but the child had fallen asleep again in front of the TV.          \n",
       "3     The dog would wake up the baby with it's loud bark after the baby had fallen asleep.                         \n",
       "4     There are many people battling cancer that are looking for an alternative treatment.                         \n",
       "...                                                                                    ...                         \n",
       "3483  There was a paint smear that dried up in the scouring heat.                                                  \n",
       "3484  The lookout scanned the horizon at dusk, as the army expected the enemy to attack at the shore of the bay.   \n",
       "3485  The soldier kept his enemy at bay by brandishing his automatic rifle and hand grenades.                      \n",
       "3486  The lookout scanned the horizon at dusk, as the army expected the enemy to attack at the shore of the bay.   \n",
       "3487  The soldier kept his enemy at bay by brandishing his automatic rifle and hand grenades.                      \n",
       "\n",
       "               Input_Words Difficulty_Level Condition  Is_Preferred  \\\n",
       "0     wake fallen asleep    easy             Pre       0              \n",
       "1     wake fallen asleep    easy             Post      1              \n",
       "2     wake fallen asleep    easy             Pre       0              \n",
       "3     wake fallen asleep    easy             Post      1              \n",
       "4     are cancer treatment  easy             Pre       0              \n",
       "...                    ...   ...             ...      ..              \n",
       "3483  was smear heat        hard             Post      0              \n",
       "3484  enemy at bay          easy             Pre       1              \n",
       "3485  enemy at bay          easy             Post      0              \n",
       "3486  enemy at bay          easy             Pre       0              \n",
       "3487  enemy at bay          easy             Post      1              \n",
       "\n",
       "                                                                                                                                                                                                                                                                                                                                                                                                                                                                                                                                                        Observed_Examples  \n",
       "0     [I wake up to find myself fallen asleep again., He'd wake the other night and find her had fallen asleep., I wake up in a cold sweat after I have fallen asleep., When I wake up, I've fallen asleep., They would wake the fallen enemy and fall asleep with him.]                                                                                                                                                                                                                                                                                                   \n",
       "1     [I wake up to find myself fallen asleep again., He'd wake the other night and find her had fallen asleep., I wake up in a cold sweat after I have fallen asleep., When I wake up, I've fallen asleep., They would wake the fallen enemy and fall asleep with him.]                                                                                                                                                                                                                                                                                                   \n",
       "2     [I wake up to find myself fallen asleep again., He'd wake the other night and find her had fallen asleep., I wake up in a cold sweat after I have fallen asleep., When I wake up, I've fallen asleep., They would wake the fallen enemy and fall asleep with him.]                                                                                                                                                                                                                                                                                                   \n",
       "3     [I wake up to find myself fallen asleep again., He'd wake the other night and find her had fallen asleep., I wake up in a cold sweat after I have fallen asleep., When I wake up, I've fallen asleep., They would wake the fallen enemy and fall asleep with him.]                                                                                                                                                                                                                                                                                                   \n",
       "4     [You are not a doctor and you are not a patient, so your cancer treatment is just a minor miracle., Our findings are currently being validated in an orthotopic pancreatic cancer model for treatment of CRC., Those patients are not eligible for cancer treatment and may die., We are discussing ways to eradicate cancer by introducing treatment strategies., We are currently under investigation and are currently studying the effect of ESR1 inhibition on cancer cell survival, and the mechanism of treatment-mediated apoptosis and apoptosis in vivo.]  \n",
       "...                                                                                                                                                                                                                                                                                                                                                                                                                                                                                                                                                                   ...  \n",
       "3483  [It was a big smear of heat from the sun., I was surprised to see a smear of skin beneath the heat., The material was burnt and a faint smear of red pebble stuck to it, but the heat was nothing to the blood, not even as it gushed from his face., I was pale and trembling with the white and pink, a smear of sun, and my body shivered under the heat., There was a smear of grease and the odor of cooking oil in the heat.]                                                                                                                                  \n",
       "3484  [I know I am not enemy but I am not at bay., His enemy was able to get their eyes at bay., The enemy was at the gate, but their weapons were long dead at bay., He wanted to look at the enemy and be able to shoot them at bay., No longer in the enemy's company at bay.]                                                                                                                                                                                                                                                                                          \n",
       "3485  [I know I am not enemy but I am not at bay., His enemy was able to get their eyes at bay., The enemy was at the gate, but their weapons were long dead at bay., He wanted to look at the enemy and be able to shoot them at bay., No longer in the enemy's company at bay.]                                                                                                                                                                                                                                                                                          \n",
       "3486  [I know I am not enemy but I am not at bay., His enemy was able to get their eyes at bay., The enemy was at the gate, but their weapons were long dead at bay., He wanted to look at the enemy and be able to shoot them at bay., No longer in the enemy's company at bay.]                                                                                                                                                                                                                                                                                          \n",
       "3487  [I know I am not enemy but I am not at bay., His enemy was able to get their eyes at bay., The enemy was at the gate, but their weapons were long dead at bay., He wanted to look at the enemy and be able to shoot them at bay., No longer in the enemy's company at bay.]                                                                                                                                                                                                                                                                                          \n",
       "\n",
       "[3488 rows x 9 columns]"
      ]
     },
     "execution_count": 11,
     "metadata": {},
     "output_type": "execute_result"
    }
   ],
   "source": [
    "sentences = {'Item_Num': [],\n",
    "             'Group_ID': [],\n",
    "             'Block_ID': [],\n",
    "             'Sentence': [],\n",
    "             'Input_Words': [],\n",
    "             'Difficulty_Level': [],\n",
    "             'Condition': [],\n",
    "             'Is_Preferred': [],\n",
    "             'Observed_Examples': []}\n",
    "\n",
    "for item_idx, item in responses.iterrows():\n",
    "    for sent_type in ['Pre', 'Post']:\n",
    "        pref_column_label = \"Prefers_\" + sent_type + \"_Sentence\"\n",
    "        preferred = 0\n",
    "        if item[pref_column_label] == 1:\n",
    "            preferred = 1\n",
    "        sent_column_label = sent_type + \"_Sentence\"\n",
    "        sent = item[sent_column_label]\n",
    "        sentences['Item_Num'].append(item_idx)\n",
    "        sentences['Group_ID'].append(item['Group_ID'])\n",
    "        sentences['Sentence'].append(sent)\n",
    "        sentences['Block_ID'].append(item['Block_ID'])\n",
    "        sentences['Input_Words'].append(item['Input_Words'])\n",
    "        sentences['Difficulty_Level'].append(\n",
    "            item['Difficulty_Level'])\n",
    "        sentences['Condition'].append(sent_type)\n",
    "        sentences['Is_Preferred'].append(preferred)\n",
    "        sentences['Observed_Examples'].append(\n",
    "            item['Observed_Generated_Sentences'])\n",
    "\n",
    "sentences = pandas.DataFrame(sentences)\n",
    "sentences"
   ]
  },
  {
   "cell_type": "code",
   "execution_count": 12,
   "metadata": {},
   "outputs": [],
   "source": [
    "easy_sentences = sentences[sentences['Difficulty_Level'] == 'easy']\n",
    "hard_sentences = sentences[sentences['Difficulty_Level'] == 'hard']"
   ]
  },
  {
   "cell_type": "markdown",
   "metadata": {},
   "source": [
    "##### Number of Infilled Tokens by Difficulty (i.e. validation of difference between easy and hard prompts; Table 4)"
   ]
  },
  {
   "cell_type": "code",
   "execution_count": 13,
   "metadata": {},
   "outputs": [
    {
     "name": "stdout",
     "output_type": "stream",
     "text": [
      "1000\n",
      "2000\n",
      "3000\n"
     ]
    }
   ],
   "source": [
    "'''Compute average number of infilled words between prompt tokens'''\n",
    "\n",
    "def get_mean_token_distance(input_words, sent):\n",
    "    sent_tokens = vectorizer.tokenizer.tokenize(sent)\n",
    "    # Merge subtokens\n",
    "    sent_tokens = \" \".join(sent_tokens).replace(\" ##\", \"\").split(\" \")\n",
    "    token_idxs = []\n",
    "    next_input_word_idx = 0\n",
    "    for idx, token in enumerate(sent_tokens):\n",
    "        if token.lower() == input_words[next_input_word_idx]:\n",
    "            token_idxs.append(idx)\n",
    "            next_input_word_idx +=1\n",
    "            if next_input_word_idx == len(input_words):\n",
    "                break\n",
    "    dists = []\n",
    "    for idx1, idx2 in zip(token_idxs[:-1], token_idxs[1:]):\n",
    "        dists.append(idx2 - idx1 - 1)\n",
    "    return numpy.mean(dists)\n",
    "\n",
    "distances = []\n",
    "for idx, item in sentences.iterrows():\n",
    "    distance = get_mean_token_distance(item['Input_Words'].split(), \n",
    "                                       item['Sentence'])\n",
    "    distances.append(distance)\n",
    "    if idx and idx % 1000 == 0:\n",
    "        print(idx)\n",
    "        # break\n",
    "sentences['Num_Infilled_Words'] = distances"
   ]
  },
  {
   "cell_type": "code",
   "execution_count": 14,
   "metadata": {},
   "outputs": [
    {
     "data": {
      "text/plain": [
       "Difficulty_Level\n",
       "easy    3.035377\n",
       "hard    4.316964\n",
       "Name: Num_Infilled_Words, dtype: float64"
      ]
     },
     "execution_count": 14,
     "metadata": {},
     "output_type": "execute_result"
    }
   ],
   "source": [
    "sentences.groupby('Difficulty_Level')['Num_Infilled_Words'].mean()"
   ]
  },
  {
   "cell_type": "code",
   "execution_count": 16,
   "metadata": {},
   "outputs": [],
   "source": [
    "easy_sentences = sentences[sentences['Difficulty_Level'] == 'easy']\n",
    "hard_sentences = sentences[sentences['Difficulty_Level'] == 'hard']"
   ]
  },
  {
   "cell_type": "code",
   "execution_count": 17,
   "metadata": {},
   "outputs": [
    {
     "data": {
      "text/plain": [
       "9.99990000099999e-06"
      ]
     },
     "execution_count": 17,
     "metadata": {},
     "output_type": "execute_result"
    }
   ],
   "source": [
    "eval_diff(easy_sentences['Num_Infilled_Words'].values,\n",
    "          hard_sentences['Num_Infilled_Words'].values)"
   ]
  },
  {
   "cell_type": "markdown",
   "metadata": {},
   "source": [
    "#### Influence of Generated Examples (Table 6)"
   ]
  },
  {
   "cell_type": "code",
   "execution_count": 18,
   "metadata": {},
   "outputs": [
    {
     "name": "stdout",
     "output_type": "stream",
     "text": [
      "1000\n",
      "2000\n",
      "3000\n"
     ]
    }
   ],
   "source": [
    "'''Compute similarity between human-authored sentences and observed generated examples'''\n",
    "\n",
    "def get_sent_vector_sim_scores(sent1, sents2):\n",
    "    sent1_vector = numpy.mean(vectorizer(sent1), axis=1)\n",
    "    sim_scores = []\n",
    "    for sent2 in sents2:\n",
    "        sent2_vector = numpy.mean(vectorizer(sent2), axis=1)\n",
    "        sim_score = cosine_similarity(sent1_vector, \n",
    "                                      sent2_vector)[0][0]\n",
    "        sim_scores.append(sim_score)\n",
    "    return sim_scores\n",
    "    \n",
    "def get_sent_vector_sim_to_gen(sent, gen_sents):#, reduce='mean'):\n",
    "    score = numpy.max(get_sent_vector_sim_scores(sent, gen_sents))#, reduce=reduce))\n",
    "    return score\n",
    "\n",
    "scores = []\n",
    "\n",
    "for idx, item in sentences.iterrows():\n",
    "    score = get_sent_vector_sim_to_gen(\n",
    "        item['Sentence'],\n",
    "        item['Observed_Examples'])\n",
    "    scores.append(score)\n",
    "\n",
    "    if idx and idx % 1000 == 0:\n",
    "        print(idx)\n",
    "\n",
    "sentences['Sent_Gen_Sim'] = scores"
   ]
  },
  {
   "cell_type": "code",
   "execution_count": 19,
   "metadata": {},
   "outputs": [],
   "source": [
    "hard_sentences = sentences[sentences['Difficulty_Level'] == 'hard']"
   ]
  },
  {
   "cell_type": "code",
   "execution_count": 20,
   "metadata": {},
   "outputs": [
    {
     "data": {
      "text/plain": [
       "Condition\n",
       "Post    0.923384\n",
       "Pre     0.920936\n",
       "Name: Sent_Gen_Sim, dtype: float64"
      ]
     },
     "execution_count": 20,
     "metadata": {},
     "output_type": "execute_result"
    }
   ],
   "source": [
    "hard_sentences.groupby('Condition')['Sent_Gen_Sim'].mean()"
   ]
  },
  {
   "cell_type": "code",
   "execution_count": 21,
   "metadata": {},
   "outputs": [],
   "source": [
    "hard_post_sentences = hard_sentences[hard_sentences['Condition'] == 'Post']\n",
    "hard_pre_sentences = hard_sentences[hard_sentences['Condition'] == 'Pre']"
   ]
  },
  {
   "cell_type": "code",
   "execution_count": 22,
   "metadata": {},
   "outputs": [
    {
     "data": {
      "text/plain": [
       "0.0048599514004859954"
      ]
     },
     "execution_count": 22,
     "metadata": {},
     "output_type": "execute_result"
    }
   ],
   "source": [
    "eval_diff(hard_pre_sentences['Sent_Gen_Sim'].values,\n",
    "          hard_post_sentences['Sent_Gen_Sim'].values)"
   ]
  },
  {
   "cell_type": "markdown",
   "metadata": {},
   "source": [
    "#### Influence and Storiability (Table 7)"
   ]
  },
  {
   "cell_type": "code",
   "execution_count": 23,
   "metadata": {},
   "outputs": [
    {
     "data": {
      "text/plain": [
       "Is_Preferred\n",
       "0    0.922314\n",
       "1    0.925166\n",
       "Name: Sent_Gen_Sim, dtype: float64"
      ]
     },
     "execution_count": 23,
     "metadata": {},
     "output_type": "execute_result"
    }
   ],
   "source": [
    "hard_post_sentences.groupby('Is_Preferred')['Sent_Gen_Sim'].mean()"
   ]
  },
  {
   "cell_type": "code",
   "execution_count": 24,
   "metadata": {},
   "outputs": [],
   "source": [
    "hard_post_preferred_sentences = hard_post_sentences[hard_post_sentences['Is_Preferred'] == 1]\n",
    "hard_post_notpreferred_sentences = hard_post_sentences[hard_post_sentences['Is_Preferred'] == 0]\n"
   ]
  },
  {
   "cell_type": "code",
   "execution_count": 25,
   "metadata": {},
   "outputs": [
    {
     "data": {
      "text/plain": [
       "0.017409825901740984"
      ]
     },
     "execution_count": 25,
     "metadata": {},
     "output_type": "execute_result"
    }
   ],
   "source": [
    "eval_diff(hard_post_preferred_sentences['Sent_Gen_Sim'].values,\n",
    "          hard_post_notpreferred_sentences['Sent_Gen_Sim'].values)"
   ]
  },
  {
   "cell_type": "code",
   "execution_count": null,
   "metadata": {},
   "outputs": [],
   "source": []
  }
 ],
 "metadata": {
  "kernelspec": {
   "display_name": "Python 3",
   "language": "python",
   "name": "python3"
  },
  "language_info": {
   "codemirror_mode": {
    "name": "ipython",
    "version": 3
   },
   "file_extension": ".py",
   "mimetype": "text/x-python",
   "name": "python",
   "nbconvert_exporter": "python",
   "pygments_lexer": "ipython3",
   "version": "3.7.5"
  },
  "varInspector": {
   "cols": {
    "lenName": 16,
    "lenType": 16,
    "lenVar": 40
   },
   "kernels_config": {
    "python": {
     "delete_cmd_postfix": "",
     "delete_cmd_prefix": "del ",
     "library": "var_list.py",
     "varRefreshCmd": "print(var_dic_list())"
    },
    "r": {
     "delete_cmd_postfix": ") ",
     "delete_cmd_prefix": "rm(",
     "library": "var_list.r",
     "varRefreshCmd": "cat(var_dic_list()) "
    }
   },
   "types_to_exclude": [
    "module",
    "function",
    "builtin_function_or_method",
    "instance",
    "_Feature"
   ],
   "window_display": false
  }
 },
 "nbformat": 4,
 "nbformat_minor": 4
}
